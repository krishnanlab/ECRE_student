{
 "cells": [
  {
   "cell_type": "markdown",
   "metadata": {},
   "source": [
    "# 02- Control Structures in Python"
   ]
  },
  {
   "cell_type": "markdown",
   "metadata": {},
   "source": [
    "Control structures are ways of organizing the execution of a program. These structures can be used to take action based on a specific set of criteria or do a task a repeat number of times. Here, we will be covering a if statements and two types of loops."
   ]
  },
  {
   "cell_type": "markdown",
   "metadata": {},
   "source": [
    "## Conditional Statements"
   ]
  },
  {
   "cell_type": "markdown",
   "metadata": {},
   "source": [
    "Conditional statements allow us to take two different courses of action depending on whether something holds true or not. "
   ]
  },
  {
   "cell_type": "code",
   "execution_count": 1,
   "metadata": {},
   "outputs": [
    {
     "name": "stdout",
     "output_type": "stream",
     "text": [
      "Grade 1 is the higher grade\n"
     ]
    }
   ],
   "source": [
    "## We can use logic to make decisions!\n",
    "## Say we want to know whether something is true or not\n",
    "## Python allows us to check and take action accordingly\n",
    "\n",
    "## Example: comparing two grades\n",
    "grade_1 = 0.98\n",
    "grade_2 = 0.77\n",
    "\n",
    "## Which grade was higher?\n",
    "## We can check!\n",
    "if grade_1 > grade_2: ## Compare using >, <, == (equal)\n",
    "    print(\"Grade 1 is the higher grade\") ## If the above statement is True, we should see this print statement\n",
    "else:\n",
    "    print(\"Grade 2 is the higher grade\") ## If it's not true, we will see this print statement"
   ]
  },
  {
   "cell_type": "code",
   "execution_count": 2,
   "metadata": {},
   "outputs": [
    {
     "data": {
      "text/plain": [
       "True"
      ]
     },
     "execution_count": 2,
     "metadata": {},
     "output_type": "execute_result"
    }
   ],
   "source": [
    "## In fact, grade_1 > grade_2 returns a value\n",
    "grade_1 > grade_2"
   ]
  },
  {
   "cell_type": "code",
   "execution_count": 3,
   "metadata": {},
   "outputs": [
    {
     "name": "stdout",
     "output_type": "stream",
     "text": [
      "Correct\n"
     ]
    }
   ],
   "source": [
    "## This is a boolean value (True or False) and is the basis for control structures\n",
    "## We use if and else statements to decided what to do (if something is True or not)\n",
    "\n",
    "## Example: checking our math, does 2 + 2 = 4?\n",
    "## This is a simple example\n",
    "if 2 + 2 == 4:\n",
    "    print(\"Correct\")\n",
    "else:\n",
    "    print(\"Incorrect\")"
   ]
  },
  {
   "cell_type": "code",
   "execution_count": 4,
   "metadata": {},
   "outputs": [
    {
     "name": "stdout",
     "output_type": "stream",
     "text": [
      "The list is long\n"
     ]
    }
   ],
   "source": [
    "## But once we understand how these work,\n",
    "## we can look at more complex examples\n",
    "my_list = [1, 2, 3, 4, 5, 6, 7]\n",
    "\n",
    "## How long is the list\n",
    "if len(my_list) > 4:\n",
    "    print(\"The list is long\")\n",
    "else:\n",
    "    print(\"The list is short\")"
   ]
  },
  {
   "cell_type": "code",
   "execution_count": 5,
   "metadata": {},
   "outputs": [
    {
     "name": "stdout",
     "output_type": "stream",
     "text": [
      "False\n"
     ]
    }
   ],
   "source": [
    "## Here's another example\n",
    "if (3 + 2)**2/4.3 > 6.02:\n",
    "    print(True)\n",
    "else:\n",
    "    print(False) ## We can just print out a boolean value\n",
    "    \n",
    "## There are a lot more things we can do with if/else statements\n",
    "## and they may be useful when we look at loops"
   ]
  },
  {
   "cell_type": "markdown",
   "metadata": {},
   "source": [
    "**Exercise:** We can nest an if statement inside of another if statement to create more complex logic. Define a variable number and set its value to 2. First, create an if statement that checks to see if num is greater than 10 or less than 10 and print \"Num is greater than 10\" or \"Num is less than 10,\" respectively. Then write a nested if statement for both cases. If num is less than 10, check to see if it is less than 5 or greater than 5 and print a corresponding message. Similarly, if num is greater than 10, check to see if it is less than 15 or greater than 15 and print a similar message. For `num = 5`, your code should print two messages: \"Num is less than 10\" and \"Num is less than 5\"."
   ]
  },
  {
   "cell_type": "code",
   "execution_count": null,
   "metadata": {},
   "outputs": [],
   "source": []
  },
  {
   "cell_type": "markdown",
   "metadata": {},
   "source": [
    "\n",
    "## Loops"
   ]
  },
  {
   "cell_type": "markdown",
   "metadata": {},
   "source": [
    "Loops are used for performing the same task multiple times. In python, there are two different kinds of loops: for loops and while loops. We will discuss both in this section."
   ]
  },
  {
   "cell_type": "markdown",
   "metadata": {},
   "source": [
    "### For Loops"
   ]
  },
  {
   "cell_type": "markdown",
   "metadata": {},
   "source": [
    "A for loop is used when you want to do the same task _for_ a set number of elements or a set number of times. Whenever you know how many times you want to do something and can express that in code, you will want to use a for loop."
   ]
  },
  {
   "cell_type": "code",
   "execution_count": 6,
   "metadata": {},
   "outputs": [
    {
     "name": "stdout",
     "output_type": "stream",
     "text": [
      "Element of my_list located at index 0 = a\n",
      "Element of my_list located at index 1 = b\n",
      "Element of my_list located at index 2 = c\n",
      "Element of my_list located at index 3 = d\n",
      "Element of my_list located at index 4 = e\n",
      "Element of my_list located at index 5 = f\n"
     ]
    }
   ],
   "source": [
    "## Create a list to loop through\n",
    "my_list = [\"a\", \"b\", \"c\", \"d\", \"e\", \"f\"]\n",
    "\n",
    "## Loop over the index of the list\n",
    "for i in range(len(my_list)): # the range function is used all the times in loops\n",
    "    ## For each index value, print index\n",
    "    ## and value stored at that index in my_list\n",
    "    print(\"Element of my_list located at index\", i, \"=\", my_list[i])"
   ]
  },
  {
   "cell_type": "code",
   "execution_count": 7,
   "metadata": {},
   "outputs": [
    {
     "name": "stdout",
     "output_type": "stream",
     "text": [
      "13 x 24 = 312\n"
     ]
    }
   ],
   "source": [
    "## Loops are used whenever we need to do the same thing\n",
    "## many times\n",
    "\n",
    "## Multiplication can be represented as repeated \n",
    "## addition\n",
    "## Example: 13 * 24\n",
    "product = 0\n",
    "for i in range(13):\n",
    "    ## Add 24 up 13 times\n",
    "    product = product + 24\n",
    "    \n",
    "print(\"13 x 24 =\", product)"
   ]
  },
  {
   "cell_type": "code",
   "execution_count": 8,
   "metadata": {},
   "outputs": [
    {
     "name": "stdout",
     "output_type": "stream",
     "text": [
      "13 x 24 = 312\n"
     ]
    }
   ],
   "source": [
    "## We keep using `for i in range()`,\n",
    "## but we don't have to use `i`\n",
    "## We can use any variable name we want to\n",
    "\n",
    "## Same example as above\n",
    "## Multiplication can be represented as repeated \n",
    "## addition\n",
    "## Example: 13 * 24\n",
    "product = 0\n",
    "for wasfdgh in range(13): ## It doesn't matter what we call the variable because we don't use it in the loop\n",
    "    ## Add 24 up 13 times\n",
    "    product = product + 24\n",
    "    \n",
    "print(\"13 x 24 =\", product)"
   ]
  },
  {
   "cell_type": "code",
   "execution_count": 9,
   "metadata": {},
   "outputs": [
    {
     "name": "stdout",
     "output_type": "stream",
     "text": [
      "Element of my_list located at index 0 = a\n",
      "Element of my_list located at index 1 = b\n",
      "Element of my_list located at index 2 = c\n",
      "Element of my_list located at index 3 = d\n",
      "Element of my_list located at index 4 = e\n",
      "Element of my_list located at index 5 = f\n"
     ]
    }
   ],
   "source": [
    "## Loop over the index of the list\n",
    "## Note now that we are using the index variable we need to make sure we keep the name\n",
    "## consistent\n",
    "for ghjkl in range(len(my_list)):\n",
    "    ## For each index value, print index\n",
    "    ## and value stored at that index in my_list\n",
    "    print(\"Element of my_list located at index\", ghjkl, \"=\", my_list[ghjkl])"
   ]
  },
  {
   "cell_type": "code",
   "execution_count": 10,
   "metadata": {},
   "outputs": [
    {
     "name": "stdout",
     "output_type": "stream",
     "text": [
      "a\n",
      "b\n",
      "c\n",
      "d\n",
      "e\n",
      "f\n"
     ]
    }
   ],
   "source": [
    "## Typically though, we want to make sure we\n",
    "## use something easy to refer to and name things apporpriately\n",
    "\n",
    "## We can also iterate through a contained directly\n",
    "## Instead of looping through an index and selecting\n",
    "## the element at that index, we can just loop through\n",
    "## our list directly\n",
    "for element in my_list:\n",
    "    print(element)"
   ]
  },
  {
   "cell_type": "code",
   "execution_count": 11,
   "metadata": {},
   "outputs": [
    {
     "name": "stdout",
     "output_type": "stream",
     "text": [
      "w\n",
      "o\n",
      "n\n",
      "d\n",
      "e\n",
      "r\n",
      "f\n",
      "u\n",
      "l\n"
     ]
    }
   ],
   "source": [
    "## No index variable needed!\n",
    "## We can do this with things other than lists as well\n",
    "## Like a string\n",
    "for character in \"wonderful\":\n",
    "    print(character)"
   ]
  },
  {
   "cell_type": "code",
   "execution_count": 12,
   "metadata": {},
   "outputs": [
    {
     "name": "stdout",
     "output_type": "stream",
     "text": [
      "1 ^2 = 1\n",
      "2 ^2 = 4\n",
      "3 ^2 = 9\n",
      "4 ^2 = 16\n",
      "5 ^2 = 25\n",
      "6 ^2 = 36\n"
     ]
    }
   ],
   "source": [
    "## We can use for loops to evaluate a function on a list\n",
    "## Example: square a list of numbers\n",
    "my_numbers = [1, 2, 3, 4, 5, 6]\n",
    "my_squares = [] ## Empty list to store squares\n",
    "for number in my_numbers:\n",
    "    my_squares.append(number**2)\n",
    "    \n",
    "## Now we can print out the numbers we squared\n",
    "for i in range(len(my_numbers)):\n",
    "    print(my_numbers[i],\"^2 =\", my_squares[i])"
   ]
  },
  {
   "cell_type": "code",
   "execution_count": 13,
   "metadata": {},
   "outputs": [
    {
     "name": "stdout",
     "output_type": "stream",
     "text": [
      "[16, 25, 36]\n"
     ]
    }
   ],
   "source": [
    "my_numbers = [1, 2, 3, 4, 5, 6]\n",
    "my_squares = [] ## Empty list to store squares\n",
    "for number in my_numbers:\n",
    "    ## Now we can work in if/else statements as well\n",
    "    if number**2 > 10: ## Only keep squares greater than 10\n",
    "        my_squares.append(number**2)\n",
    "    else:\n",
    "        pass ## Do nothing\n",
    "    \n",
    "## Print squared numbers\n",
    "print(my_squares)"
   ]
  },
  {
   "cell_type": "markdown",
   "metadata": {},
   "source": [
    "**Exercise:** Create a list with the following numbers in it: 10, 15, 32, 7, 4, 9, 21. Using the same nested if statements you used in the previous exercise, loop through each element of this list and print the appropriate messages depending on how large the number is. Note: you may need to change your statements a little bit for the boundary values (e.g., 10 and 15)."
   ]
  },
  {
   "cell_type": "code",
   "execution_count": null,
   "metadata": {},
   "outputs": [],
   "source": []
  },
  {
   "cell_type": "markdown",
   "metadata": {},
   "source": [
    "### While Loops"
   ]
  },
  {
   "cell_type": "markdown",
   "metadata": {},
   "source": [
    "When we want to do a task multiple times but don't know how many times that is, we will use a while loop. A while loop is used when you want to continue doing an operation _until_ a certain thing happens or _while_ a certain thing is true."
   ]
  },
  {
   "cell_type": "code",
   "execution_count": 14,
   "metadata": {},
   "outputs": [
    {
     "name": "stdout",
     "output_type": "stream",
     "text": [
      "Counter is at: 0\n",
      "Counter is at: 1\n",
      "Counter is at: 2\n",
      "Counter is at: 3\n",
      "Counter is at: 4\n",
      "Counter is at: 5\n",
      "Counter is at: 6\n",
      "Counter is at: 7\n",
      "Counter is at: 8\n",
      "Counter is at: 9\n"
     ]
    }
   ],
   "source": [
    "## While loops depend on conditional statements\n",
    "## We will execute code until a certain condition holds true\n",
    "\n",
    "## Structure:\n",
    "## while (some boolean condition) is True:\n",
    "##    do some task repeatedly\n",
    "counter = 0\n",
    "while counter < 10:\n",
    "    print(\"Counter is at:\", counter) ## Get an update on the counter\n",
    "    counter = counter + 1            ## IMPORTANT: increment the counter, if we don't do this, it will run FOREVER"
   ]
  },
  {
   "cell_type": "code",
   "execution_count": 15,
   "metadata": {},
   "outputs": [
    {
     "name": "stdout",
     "output_type": "stream",
     "text": [
      "[0, 1, 2, 3, 4]\n"
     ]
    }
   ],
   "source": [
    "## You can use these loops with other structures\n",
    "## we have seen like lists\n",
    "my_list = []\n",
    "counter = 0\n",
    "while len(my_list) < 5:\n",
    "    ## Add value to the list\n",
    "    my_list.append(counter)\n",
    "    \n",
    "    ## Increment the counter\n",
    "    counter = counter + 1\n",
    "    \n",
    "print(my_list)"
   ]
  },
  {
   "cell_type": "markdown",
   "metadata": {},
   "source": [
    "**Exercise**: Write a while loop to figure out how many times we can multiply by 7 before the value will exceed 1000. In other words, 7x7 = 49, 49x7 = ?, and so forth."
   ]
  },
  {
   "cell_type": "code",
   "execution_count": null,
   "metadata": {},
   "outputs": [],
   "source": []
  }
 ],
 "metadata": {
  "kernelspec": {
   "display_name": "Python 3",
   "language": "python",
   "name": "python3"
  },
  "language_info": {
   "codemirror_mode": {
    "name": "ipython",
    "version": 3
   },
   "file_extension": ".py",
   "mimetype": "text/x-python",
   "name": "python",
   "nbconvert_exporter": "python",
   "pygments_lexer": "ipython3",
   "version": "3.7.6"
  }
 },
 "nbformat": 4,
 "nbformat_minor": 4
}
