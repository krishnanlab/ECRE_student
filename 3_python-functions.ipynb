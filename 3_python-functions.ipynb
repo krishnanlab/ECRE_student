{
 "cells": [
  {
   "cell_type": "markdown",
   "metadata": {},
   "source": [
    "# 03 - Functions"
   ]
  },
  {
   "cell_type": "markdown",
   "metadata": {},
   "source": [
    "Functions are one of the important concepts of scientific programming. Functions allow us to break up a complex task into a smaller number of finite tasks. They help us not only be able to read our code better, but allows us to reuse code we have already written (something that we will learn down the road at some point). Loops allow us to perform the same task many times, and functions are often times what we will be using in these loops."
   ]
  },
  {
   "cell_type": "code",
   "execution_count": 1,
   "metadata": {},
   "outputs": [
    {
     "name": "stdout",
     "output_type": "stream",
     "text": [
      "4\n"
     ]
    }
   ],
   "source": [
    "## You can write a function to do _any_ task you want, simple or difficult\n",
    "## Example: simple function to double a number\n",
    "\n",
    "## Create a function using the `def` keyword and then naming the function\n",
    "def double_number(num): ## Define the variables we need to pass as inputs\n",
    "    return num * 2 ## `return` tells the function what number to give us back\n",
    "\n",
    "print(double_number(2))"
   ]
  },
  {
   "cell_type": "code",
   "execution_count": 2,
   "metadata": {},
   "outputs": [
    {
     "name": "stdout",
     "output_type": "stream",
     "text": [
      "4.5\n"
     ]
    }
   ],
   "source": [
    "## Functions are a way of compartmentalizing your\n",
    "## code when you are doing the same task many times\n",
    "## Example: mean of a list of numbers\n",
    "my_list = [1,2,3,4,5,6,7,8]\n",
    "N       = len(my_list) ## Number of elements\n",
    "total   = 0\n",
    "for element in my_list: ## Loop through numbers in the list\n",
    "    total = total + element\n",
    "my_mean = total/N\n",
    "print(my_mean)"
   ]
  },
  {
   "cell_type": "code",
   "execution_count": 3,
   "metadata": {},
   "outputs": [],
   "source": [
    "## This is easy when we have 1 list to take a mean of\n",
    "## but what happens if we have 100 lists like this?\n",
    "## We can write a tool that helps us to take a mean of any \n",
    "## list and use that tool many times\n",
    "\n",
    "def mean_of_list(input_list): \n",
    "    N     = len(input_list)\n",
    "    total = 0\n",
    "    for element in input_list:\n",
    "        total += element ## Shortcut for total = total + element\n",
    "    return total/N "
   ]
  },
  {
   "cell_type": "code",
   "execution_count": 4,
   "metadata": {},
   "outputs": [
    {
     "name": "stdout",
     "output_type": "stream",
     "text": [
      "4.5\n"
     ]
    }
   ],
   "source": [
    "## Try this again with my_list\n",
    "my_mean = mean_of_list(my_list)\n",
    "print(my_mean)"
   ]
  },
  {
   "cell_type": "code",
   "execution_count": 5,
   "metadata": {},
   "outputs": [
    {
     "name": "stdout",
     "output_type": "stream",
     "text": [
      "The mean of [1, 2, 3, 4, 5] is 3.0\n",
      "The mean of [3, 3, 3, 3, 3] is 3.0\n",
      "The mean of [2, 4, 6, 8, 10] is 6.0\n",
      "The mean of [9, 8, 7, 6, 5, 4] is 6.5\n",
      "The mean of [8, 6, 7, 5, 3, 0, 9] is 5.428571428571429\n"
     ]
    }
   ],
   "source": [
    "## This becomes useful when we have to do the same task a number of times\n",
    "list_1    = [1,2,3,4,5]\n",
    "list_2    = [3,3,3,3,3]\n",
    "list_3    = [2,4,6,8,10]\n",
    "list_4    = [9,8,7,6,5,4]\n",
    "list_5    = [8,6,7,5,3,0,9]\n",
    "all_lists = [list_1, list_2, list_3, list_4, list_5] ## List containing other lists\n",
    "\n",
    "## Get the mean of each list\n",
    "for this_list in all_lists:\n",
    "    print(\"The mean of\", this_list, \"is\", mean_of_list(this_list))"
   ]
  },
  {
   "cell_type": "code",
   "execution_count": 6,
   "metadata": {},
   "outputs": [
    {
     "name": "stdout",
     "output_type": "stream",
     "text": [
      "2.29128784747792\n"
     ]
    }
   ],
   "source": [
    "## Good practice: Each function should do _one_ task\n",
    "## Example: calculating the standard deviation \n",
    "## standard deviation = sqrt{ 1/N sum (x_i - mean)^2 }\n",
    "## So we need the mean to calculate the standard deviation\n",
    "## We _can_ do this all in one function\n",
    "\n",
    "def standard_deviation_all_in_one(input_list):\n",
    "    ## First calculate the mean\n",
    "    ## Same code as before\n",
    "    N     = len(input_list)\n",
    "    total = 0\n",
    "    for element in input_list:\n",
    "        total += element ## Shortcut for total = total + element\n",
    "    mean = total/N\n",
    "    \n",
    "    ## Then calculate the standard deviation\n",
    "    variance = 0\n",
    "    for element in input_list:\n",
    "        variance += (element - mean)**2\n",
    "    variance = variance/N\n",
    "    return variance**(1/2) ## sqrt\n",
    "\n",
    "print(standard_deviation_all_in_one(my_list))"
   ]
  },
  {
   "cell_type": "code",
   "execution_count": 7,
   "metadata": {},
   "outputs": [
    {
     "name": "stdout",
     "output_type": "stream",
     "text": [
      "2.29128784747792\n"
     ]
    }
   ],
   "source": [
    "## Or we could use the function we already wrote\n",
    "\n",
    "def standard_deviation_using_mean(input_list):\n",
    "    ## Calculate the mean first\n",
    "    mean = mean_of_list(input_list)\n",
    "    \n",
    "    ## Then calculate standard deviation\n",
    "    N        = len(input_list)\n",
    "    variance = 0\n",
    "    for element in input_list:\n",
    "        variance += (element - mean)**2\n",
    "    variance = variance/N\n",
    "    return variance**(1/2) ## sqrt\n",
    "\n",
    "print(standard_deviation_using_mean(my_list))"
   ]
  },
  {
   "cell_type": "code",
   "execution_count": 8,
   "metadata": {},
   "outputs": [
    {
     "name": "stdout",
     "output_type": "stream",
     "text": [
      "2^6 = 64\n"
     ]
    }
   ],
   "source": [
    "## Functions can also use multiple inputs\n",
    "## Example: exponent of a number\n",
    "def exp(base, exponent):\n",
    "    return base**exponent\n",
    "\n",
    "print(\"2^6 =\",exp(2,6))"
   ]
  },
  {
   "cell_type": "markdown",
   "metadata": {},
   "source": [
    "**Exercise:** Write a function that takes as an input a dictionary and returns a list where the first element of the list is the sum of all of the dictionary keys and the second element is the sum of all values. For example: the input `{1: 5, 2: 3}` would yield the output `[3, 8]`. You should try this with a couple of different dictionaries (e.g., what if the keys are strings?). \n",
    "\n",
    "Then write a function that takes in two lists of the same length, one list of numbers and one lists of strings. This function will look at each number and print the corresponding string that number of times. For example: given the input `[1,1,3]` and `['a','b','c']`, the function could return `abccc`."
   ]
  },
  {
   "cell_type": "code",
   "execution_count": null,
   "metadata": {},
   "outputs": [],
   "source": []
  }
 ],
 "metadata": {
  "kernelspec": {
   "display_name": "Python 3",
   "language": "python",
   "name": "python3"
  },
  "language_info": {
   "codemirror_mode": {
    "name": "ipython",
    "version": 3
   },
   "file_extension": ".py",
   "mimetype": "text/x-python",
   "name": "python",
   "nbconvert_exporter": "python",
   "pygments_lexer": "ipython3",
   "version": "3.7.6"
  }
 },
 "nbformat": 4,
 "nbformat_minor": 4
}
